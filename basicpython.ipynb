{
  "nbformat": 4,
  "nbformat_minor": 0,
  "metadata": {
    "colab": {
      "provenance": [],
      "authorship_tag": "ABX9TyMjzW2/htgqYapxjvvDytkd",
      "include_colab_link": true
    },
    "kernelspec": {
      "name": "python3",
      "display_name": "Python 3"
    },
    "language_info": {
      "name": "python"
    }
  },
  "cells": [
    {
      "cell_type": "markdown",
      "metadata": {
        "id": "view-in-github",
        "colab_type": "text"
      },
      "source": [
        "<a href=\"https://colab.research.google.com/github/jiyajiya11/basicpythonml/blob/main/basicpython.ipynb\" target=\"_parent\"><img src=\"https://colab.research.google.com/assets/colab-badge.svg\" alt=\"Open In Colab\"/></a>"
      ]
    },
    {
      "cell_type": "markdown",
      "source": [
        "# intoduction to python `python`\n",
        "first program: display hello world\n"
      ],
      "metadata": {
        "id": "fTdIhCFV7IvX"
      }
    },
    {
      "cell_type": "code",
      "source": [
        "print(\"hello world\")"
      ],
      "metadata": {
        "colab": {
          "base_uri": "https://localhost:8080/"
        },
        "id": "q9QF9Mwo74Cw",
        "outputId": "0e844a6d-3668-499a-c80f-4e846700fb66"
      },
      "execution_count": 1,
      "outputs": [
        {
          "output_type": "stream",
          "name": "stdout",
          "text": [
            "hello world\n"
          ]
        }
      ]
    },
    {
      "cell_type": "markdown",
      "source": [
        ">program to assign an integer and display it"
      ],
      "metadata": {
        "id": "cr-mNEAt9XLu"
      }
    },
    {
      "cell_type": "markdown",
      "source": [
        "program to find sum of 2 numbers"
      ],
      "metadata": {
        "id": "Jbb2H6bq9pM1"
      }
    },
    {
      "cell_type": "code",
      "source": [
        "a=10\n",
        "b=20\n",
        "print(\"sum of numbers is\",a+b)"
      ],
      "metadata": {
        "colab": {
          "base_uri": "https://localhost:8080/"
        },
        "id": "mA4QNz-u9zI2",
        "outputId": "001735e3-71d0-4ff3-ae94-295388c5ba72"
      },
      "execution_count": 5,
      "outputs": [
        {
          "output_type": "stream",
          "name": "stdout",
          "text": [
            "sum of numbers is 30\n"
          ]
        }
      ]
    },
    {
      "cell_type": "markdown",
      "source": [
        ">read two `numbers from user and display sum`"
      ],
      "metadata": {
        "id": "UP9DF2sw-Wrm"
      }
    },
    {
      "cell_type": "code",
      "source": [
        "a=int(input(\"enter the 1st number\")) #here input function as string,int() cast it to integer\n",
        "b=int(input(\"enter 2nd number\"))\n",
        "print(\"sum of numbers is\",a+b)"
      ],
      "metadata": {
        "colab": {
          "base_uri": "https://localhost:8080/"
        },
        "id": "39QY79Wu-gPH",
        "outputId": "6c7bf80b-d7a3-4cdd-b6fb-78d411a2d78c"
      },
      "execution_count": 8,
      "outputs": [
        {
          "output_type": "stream",
          "name": "stdout",
          "text": [
            "enter the 1st number23\n",
            "enter 2nd number45\n",
            "sum of numbers is 68\n"
          ]
        }
      ]
    },
    {
      "cell_type": "code",
      "source": [
        "a=10\n",
        "print(\"value of a\",a)"
      ],
      "metadata": {
        "colab": {
          "base_uri": "https://localhost:8080/"
        },
        "id": "hDHOflwB8_5P",
        "outputId": "435bb7f3-52a1-460d-b914-49c9298bd408"
      },
      "execution_count": 2,
      "outputs": [
        {
          "output_type": "stream",
          "name": "stdout",
          "text": [
            "value of a 10\n"
          ]
        }
      ]
    }
  ]
}